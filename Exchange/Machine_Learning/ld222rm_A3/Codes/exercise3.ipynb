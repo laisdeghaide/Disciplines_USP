{
 "cells": [
  {
   "cell_type": "code",
   "execution_count": 1,
   "metadata": {},
   "outputs": [],
   "source": [
    "import urllib.request\n",
    "import gzip\n",
    "import numpy as np\n",
    "from sklearn.svm import SVC\n",
    "from sklearn.model_selection import GridSearchCV\n",
    "from sklearn.multiclass import OneVsOneClassifier\n",
    "import matplotlib.pyplot as plt\n",
    "from sklearn.metrics import confusion_matrix"
   ]
  },
  {
   "cell_type": "code",
   "execution_count": 2,
   "metadata": {},
   "outputs": [],
   "source": [
    "# downloading the dataset from http://yann.lecun.com/exdb/mnist/\n",
    "\n",
    "url = 'http://yann.lecun.com/exdb/mnist/'\n",
    "files = ['train-images-idx3-ubyte.gz', \n",
    "         'train-labels-idx1-ubyte.gz', \n",
    "         't10k-images-idx3-ubyte.gz', \n",
    "         't10k-labels-idx1-ubyte.gz']\n",
    "\n",
    "with gzip.open(urllib.request.urlopen(url+files[0]), 'rb') as f:\n",
    "    X_train = np.frombuffer(f.read(), dtype=np.uint8, offset=16).reshape(-1, 784)\n",
    "\n",
    "with gzip.open(urllib.request.urlopen(url+files[1]), 'rb') as f:\n",
    "    y_train = np.frombuffer(f.read(), dtype=np.uint8, offset=8)\n",
    "\n",
    "with gzip.open(urllib.request.urlopen(url+files[2]), 'rb') as f:\n",
    "    X_test = np.frombuffer(f.read(), dtype=np.uint8, offset=16).reshape(-1, 784)\n",
    "\n",
    "with gzip.open(urllib.request.urlopen(url+files[3]), 'rb') as f:\n",
    "    y_test = np.frombuffer(f.read(), dtype=np.uint8, offset=8)"
   ]
  },
  {
   "cell_type": "code",
   "execution_count": 3,
   "metadata": {},
   "outputs": [],
   "source": [
    "X_train = X_train.reshape(X_train.shape[0], 784) / 255.0\n",
    "X_test = X_test.reshape(X_test.shape[0], 784) / 255.0"
   ]
  },
  {
   "cell_type": "code",
   "execution_count": 4,
   "metadata": {},
   "outputs": [],
   "source": [
    "indice_train = np.random.choice(X_train.shape[0], 5000, replace = False)\n",
    "X_train = X_train[indice_train]\n",
    "y_train = y_train[indice_train]\n",
    "\n",
    "indice_test = np.random.choice(X_test.shape[0], 10000, replace = False)\n",
    "X_test = X_test[indice_test]\n",
    "y_test = y_test[indice_test]"
   ]
  },
  {
   "cell_type": "code",
   "execution_count": 5,
   "metadata": {},
   "outputs": [],
   "source": [
    "# Define the grid of hyperparameters to search over\n",
    "param_grid = {\n",
    "    'C': [0.01, 0.1, 1, 10, 100],\n",
    "    'gamma': [0.001, 0.01, 0.1, 0.5, 1]\n",
    "}"
   ]
  },
  {
   "cell_type": "code",
   "execution_count": 6,
   "metadata": {},
   "outputs": [
    {
     "data": {
      "text/html": [
       "<style>#sk-container-id-1 {color: black;background-color: white;}#sk-container-id-1 pre{padding: 0;}#sk-container-id-1 div.sk-toggleable {background-color: white;}#sk-container-id-1 label.sk-toggleable__label {cursor: pointer;display: block;width: 100%;margin-bottom: 0;padding: 0.3em;box-sizing: border-box;text-align: center;}#sk-container-id-1 label.sk-toggleable__label-arrow:before {content: \"▸\";float: left;margin-right: 0.25em;color: #696969;}#sk-container-id-1 label.sk-toggleable__label-arrow:hover:before {color: black;}#sk-container-id-1 div.sk-estimator:hover label.sk-toggleable__label-arrow:before {color: black;}#sk-container-id-1 div.sk-toggleable__content {max-height: 0;max-width: 0;overflow: hidden;text-align: left;background-color: #f0f8ff;}#sk-container-id-1 div.sk-toggleable__content pre {margin: 0.2em;color: black;border-radius: 0.25em;background-color: #f0f8ff;}#sk-container-id-1 input.sk-toggleable__control:checked~div.sk-toggleable__content {max-height: 200px;max-width: 100%;overflow: auto;}#sk-container-id-1 input.sk-toggleable__control:checked~label.sk-toggleable__label-arrow:before {content: \"▾\";}#sk-container-id-1 div.sk-estimator input.sk-toggleable__control:checked~label.sk-toggleable__label {background-color: #d4ebff;}#sk-container-id-1 div.sk-label input.sk-toggleable__control:checked~label.sk-toggleable__label {background-color: #d4ebff;}#sk-container-id-1 input.sk-hidden--visually {border: 0;clip: rect(1px 1px 1px 1px);clip: rect(1px, 1px, 1px, 1px);height: 1px;margin: -1px;overflow: hidden;padding: 0;position: absolute;width: 1px;}#sk-container-id-1 div.sk-estimator {font-family: monospace;background-color: #f0f8ff;border: 1px dotted black;border-radius: 0.25em;box-sizing: border-box;margin-bottom: 0.5em;}#sk-container-id-1 div.sk-estimator:hover {background-color: #d4ebff;}#sk-container-id-1 div.sk-parallel-item::after {content: \"\";width: 100%;border-bottom: 1px solid gray;flex-grow: 1;}#sk-container-id-1 div.sk-label:hover label.sk-toggleable__label {background-color: #d4ebff;}#sk-container-id-1 div.sk-serial::before {content: \"\";position: absolute;border-left: 1px solid gray;box-sizing: border-box;top: 0;bottom: 0;left: 50%;z-index: 0;}#sk-container-id-1 div.sk-serial {display: flex;flex-direction: column;align-items: center;background-color: white;padding-right: 0.2em;padding-left: 0.2em;position: relative;}#sk-container-id-1 div.sk-item {position: relative;z-index: 1;}#sk-container-id-1 div.sk-parallel {display: flex;align-items: stretch;justify-content: center;background-color: white;position: relative;}#sk-container-id-1 div.sk-item::before, #sk-container-id-1 div.sk-parallel-item::before {content: \"\";position: absolute;border-left: 1px solid gray;box-sizing: border-box;top: 0;bottom: 0;left: 50%;z-index: -1;}#sk-container-id-1 div.sk-parallel-item {display: flex;flex-direction: column;z-index: 1;position: relative;background-color: white;}#sk-container-id-1 div.sk-parallel-item:first-child::after {align-self: flex-end;width: 50%;}#sk-container-id-1 div.sk-parallel-item:last-child::after {align-self: flex-start;width: 50%;}#sk-container-id-1 div.sk-parallel-item:only-child::after {width: 0;}#sk-container-id-1 div.sk-dashed-wrapped {border: 1px dashed gray;margin: 0 0.4em 0.5em 0.4em;box-sizing: border-box;padding-bottom: 0.4em;background-color: white;}#sk-container-id-1 div.sk-label label {font-family: monospace;font-weight: bold;display: inline-block;line-height: 1.2em;}#sk-container-id-1 div.sk-label-container {text-align: center;}#sk-container-id-1 div.sk-container {/* jupyter's `normalize.less` sets `[hidden] { display: none; }` but bootstrap.min.css set `[hidden] { display: none !important; }` so we also need the `!important` here to be able to override the default hidden behavior on the sphinx rendered scikit-learn.org. See: https://github.com/scikit-learn/scikit-learn/issues/21755 */display: inline-block !important;position: relative;}#sk-container-id-1 div.sk-text-repr-fallback {display: none;}</style><div id=\"sk-container-id-1\" class=\"sk-top-container\"><div class=\"sk-text-repr-fallback\"><pre>GridSearchCV(cv=3, estimator=SVC(),\n",
       "             param_grid={&#x27;C&#x27;: [0.01, 0.1, 1, 10, 100],\n",
       "                         &#x27;gamma&#x27;: [0.001, 0.01, 0.1, 0.5, 1]})</pre><b>In a Jupyter environment, please rerun this cell to show the HTML representation or trust the notebook. <br />On GitHub, the HTML representation is unable to render, please try loading this page with nbviewer.org.</b></div><div class=\"sk-container\" hidden><div class=\"sk-item sk-dashed-wrapped\"><div class=\"sk-label-container\"><div class=\"sk-label sk-toggleable\"><input class=\"sk-toggleable__control sk-hidden--visually\" id=\"sk-estimator-id-1\" type=\"checkbox\" ><label for=\"sk-estimator-id-1\" class=\"sk-toggleable__label sk-toggleable__label-arrow\">GridSearchCV</label><div class=\"sk-toggleable__content\"><pre>GridSearchCV(cv=3, estimator=SVC(),\n",
       "             param_grid={&#x27;C&#x27;: [0.01, 0.1, 1, 10, 100],\n",
       "                         &#x27;gamma&#x27;: [0.001, 0.01, 0.1, 0.5, 1]})</pre></div></div></div><div class=\"sk-parallel\"><div class=\"sk-parallel-item\"><div class=\"sk-item\"><div class=\"sk-label-container\"><div class=\"sk-label sk-toggleable\"><input class=\"sk-toggleable__control sk-hidden--visually\" id=\"sk-estimator-id-2\" type=\"checkbox\" ><label for=\"sk-estimator-id-2\" class=\"sk-toggleable__label sk-toggleable__label-arrow\">estimator: SVC</label><div class=\"sk-toggleable__content\"><pre>SVC()</pre></div></div></div><div class=\"sk-serial\"><div class=\"sk-item\"><div class=\"sk-estimator sk-toggleable\"><input class=\"sk-toggleable__control sk-hidden--visually\" id=\"sk-estimator-id-3\" type=\"checkbox\" ><label for=\"sk-estimator-id-3\" class=\"sk-toggleable__label sk-toggleable__label-arrow\">SVC</label><div class=\"sk-toggleable__content\"><pre>SVC()</pre></div></div></div></div></div></div></div></div></div></div>"
      ],
      "text/plain": [
       "GridSearchCV(cv=3, estimator=SVC(),\n",
       "             param_grid={'C': [0.01, 0.1, 1, 10, 100],\n",
       "                         'gamma': [0.001, 0.01, 0.1, 0.5, 1]})"
      ]
     },
     "execution_count": 6,
     "metadata": {},
     "output_type": "execute_result"
    }
   ],
   "source": [
    "svc_rbf = SVC(kernel='rbf')\n",
    "\n",
    "# performing the grid search using cross-validation\n",
    "rbf_grid = GridSearchCV(svc_rbf, param_grid, cv=3)\n",
    "rbf_grid.fit(X_train, y_train) # using an smaller dataset"
   ]
  },
  {
   "cell_type": "code",
   "execution_count": 7,
   "metadata": {},
   "outputs": [
    {
     "name": "stdout",
     "output_type": "stream",
     "text": [
      "Best RBF hyperparameters: {'C': 100, 'gamma': 0.01}\n"
     ]
    }
   ],
   "source": [
    "print('Best RBF SVC hyperparameters: {}'.format(rbf_grid.best_params_))"
   ]
  },
  {
   "cell_type": "code",
   "execution_count": 8,
   "metadata": {},
   "outputs": [
    {
     "name": "stdout",
     "output_type": "stream",
     "text": [
      "Test accuracy: 96.19%\n"
     ]
    }
   ],
   "source": [
    "best_svc = SVC(kernel='rbf', C=rbf_grid.best_params_['C'], gamma=rbf_grid.best_params_['gamma'])\n",
    "best_svc.fit(X_train, y_train)\n",
    "y_pred = best_svc.predict(X_test)\n",
    "\n",
    "test_score = sum(y_pred == y_test) / len(y_test) * 100\n",
    "\n",
    "print('Test accuracy: {:.2f}%'.format(test_score))"
   ]
  },
  {
   "cell_type": "code",
   "execution_count": 9,
   "metadata": {},
   "outputs": [],
   "source": [
    "# part 2 creating my own one-vs-all and comparing with the built-in one-vs-one\n",
    "class OneVsAllSVM:\n",
    "    def __init__(self, C, gamma):\n",
    "        self.C = C\n",
    "        self.gamma = gamma\n",
    "        self.svms = []\n",
    "\n",
    "    def fit(self, X, y):\n",
    "        for i in range(10):\n",
    "            # create a binary classifier for digit i\n",
    "            y_binary = (y_train == i).astype(int)\n",
    "            \n",
    "            # train an SVM model with RBF kernel on the binary labels\n",
    "            svm = SVC(kernel='rbf', C=self.C, gamma=self.gamma)\n",
    "            svm.fit(X, y_binary)\n",
    "            self.svms.append(svm)\n",
    "\n",
    "\n",
    "    def predict(self, X):\n",
    "        scores = np.zeros((X.shape[0], 10))\n",
    "        for i, svm in enumerate(self.svms):\n",
    "            # Compute the confidence score for digit i\n",
    "            scores[:, i] = svm.decision_function(X)\n",
    "        return np.argmax(scores, axis=1)"
   ]
  },
  {
   "cell_type": "code",
   "execution_count": 12,
   "metadata": {},
   "outputs": [
    {
     "name": "stdout",
     "output_type": "stream",
     "text": [
      "Test accuracy with one-vs-all: 96.34%\n",
      "[[ 970    0    0    0    1    2    3    2    2    0]\n",
      " [   0 1123    4    1    1    1    3    0    2    0]\n",
      " [   7    1  985    9    6    0    4   11    8    1]\n",
      " [   1    0    5  973    0    9    0    9    7    6]\n",
      " [   2    1    2    0  944    0    7    3    2   21]\n",
      " [   8    0    1   12    4  848   10    2    5    2]\n",
      " [   5    4    2    0    5    6  934    1    1    0]\n",
      " [   1   10   12    3    0    0    0  983    1   18]\n",
      " [   6    2    5    9    5   11    3    5  926    2]\n",
      " [   3    7    1   11   18    6    2   10    3  948]]\n"
     ]
    }
   ],
   "source": [
    "ova = OneVsAllSVM(C=rbf_grid.best_params_['C'], gamma=rbf_grid.best_params_['gamma'])\n",
    "ova.fit(X_train, y_train)\n",
    "y_pred_ova = ova.predict(X_test)\n",
    "\n",
    "test_score_ova = sum(y_pred_ova == y_test) / len(y_test) * 100\n",
    "print('Test accuracy with one-vs-all: {:.2f}%'.format(test_score_ova))\n",
    "\n",
    "print(confusion_matrix(y_test, y_pred_ova))"
   ]
  },
  {
   "cell_type": "code",
   "execution_count": 11,
   "metadata": {},
   "outputs": [
    {
     "name": "stdout",
     "output_type": "stream",
     "text": [
      "Test accuracy with built-in one-vs-one: 96.19%\n",
      "[[ 970    0    0    0    1    2    3    2    2    0]\n",
      " [   0 1123    4    1    1    1    3    0    2    0]\n",
      " [   7    1  985    9    6    0    4   11    8    1]\n",
      " [   1    0    5  973    0    9    0    9    7    6]\n",
      " [   2    1    2    0  944    0    7    3    2   21]\n",
      " [   8    0    1   12    4  848   10    2    5    2]\n",
      " [   5    4    2    0    5    6  934    1    1    0]\n",
      " [   1   10   12    3    0    0    0  983    1   18]\n",
      " [   6    2    5    9    5   11    3    5  926    2]\n",
      " [   3    7    1   11   18    6    2   10    3  948]]\n"
     ]
    }
   ],
   "source": [
    "ovo = SVC(kernel='rbf', C=rbf_grid.best_params_['C'], gamma=rbf_grid.best_params_['gamma'])\n",
    "\n",
    "ovo.fit(X_train, y_train)\n",
    "y_pred_ovo = ovo.predict(X_test)\n",
    "\n",
    "test_score_ovo = sum(y_pred_ovo == y_test) / len(y_test) * 100\n",
    "print('Test accuracy with built-in one-vs-one: {:.2f}%'.format(test_score_ovo))\n",
    "\n",
    "print(confusion_matrix(y_test, y_pred_ova))"
   ]
  },
  {
   "attachments": {},
   "cell_type": "markdown",
   "metadata": {},
   "source": [
    "The one-vs-all approach achieves a higher accuracy compared to the one-vs-one approach. However, this difference in accuracy is quite small and may not be significant.<br>\n",
    "Comparing the confusion matrices, we see that the one-vs-all classifier has slightly fewer misclassifications that the one-vs-one. However, the difference in misclassifications is also small and may not be significant.<br>\n",
    "Therefore, we can conclude the both one-vs-one and one-vs-all classifiers perform well on the MNIST dataset with SVM and RBF kernel, with the one-vs-all being slightly better."
   ]
  },
  {
   "cell_type": "code",
   "execution_count": null,
   "metadata": {},
   "outputs": [],
   "source": []
  }
 ],
 "metadata": {
  "kernelspec": {
   "display_name": "Python 3",
   "language": "python",
   "name": "python3"
  },
  "language_info": {
   "codemirror_mode": {
    "name": "ipython",
    "version": 3
   },
   "file_extension": ".py",
   "mimetype": "text/x-python",
   "name": "python",
   "nbconvert_exporter": "python",
   "pygments_lexer": "ipython3",
   "version": "3.10.7"
  },
  "orig_nbformat": 4
 },
 "nbformat": 4,
 "nbformat_minor": 2
}
