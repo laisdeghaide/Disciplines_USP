{
 "cells": [
  {
   "cell_type": "code",
   "execution_count": 16,
   "metadata": {},
   "outputs": [],
   "source": [
    "from sklearn.svm import SVC\n",
    "import time\n",
    "import numpy as np\n",
    "from tabulate import tabulate"
   ]
  },
  {
   "cell_type": "code",
   "execution_count": 17,
   "metadata": {},
   "outputs": [],
   "source": [
    "data = np.genfromtxt('../A3_datasets/microchips.csv', delimiter=',')\n",
    "X, y = data[:, :-1], data[:, -1]"
   ]
  },
  {
   "cell_type": "code",
   "execution_count": 18,
   "metadata": {},
   "outputs": [],
   "source": [
    "def mapFeature(X1, X2, d):\n",
    "    one = np.ones([len(X1), 1])\n",
    "    Xe = np.c_[one, X1, X2]\n",
    "    for i in range(2, d+1):\n",
    "        for j in range(0, i+1):\n",
    "            Xnew = X1**(i-j)*X2**j\n",
    "            Xnew = Xnew.reshape(-1, 1)\n",
    "            Xe = np.append(Xe, Xnew, 1)\n",
    "\n",
    "    return Xe"
   ]
  },
  {
   "cell_type": "code",
   "execution_count": 19,
   "metadata": {},
   "outputs": [],
   "source": [
    "degrees = [2, 8, 15]\n",
    "results = []\n",
    "\n",
    "for d in degrees:\n",
    "    d_result = []\n",
    "    d_result.append(f'Degree {d}')\n",
    "\n",
    "    # explicit mapping\n",
    "    explicit_tic = time.time()\n",
    "\n",
    "    X_poly = mapFeature(X[:, 0], X[:, 1], d)\n",
    "    linear_svc = SVC(kernel='linear')\n",
    "    linear_svc.fit(X_poly, y)\n",
    "\n",
    "    explicit_toc = time.time()\n",
    "\n",
    "    d_result.append(explicit_toc - explicit_tic)\n",
    "\n",
    "    # implicit mapping\n",
    "    implicit_tic = time.time()\n",
    "\n",
    "    linear_svc = SVC(kernel='poly', degree=d)\n",
    "    linear_svc.fit(X, y)\n",
    "\n",
    "    implicit_toc = time.time()\n",
    "    d_result.append(implicit_toc - implicit_tic)\n",
    "\n",
    "    results.append(d_result)"
   ]
  },
  {
   "cell_type": "code",
   "execution_count": 20,
   "metadata": {},
   "outputs": [
    {
     "name": "stdout",
     "output_type": "stream",
     "text": [
      "             Linear kernel (explicit)    Poly kernel (implicit)\n",
      "---------  --------------------------  ------------------------\n",
      "Degree 2                   0.00283837                 0\n",
      "Degree 8                   0.00551391                 0\n",
      "Degree 15                  0.00801659                 0.0242107\n"
     ]
    }
   ],
   "source": [
    "print(tabulate(results, headers=['Linear kernel (explicit)', 'Poly kernel (implicit)']))"
   ]
  },
  {
   "attachments": {},
   "cell_type": "markdown",
   "metadata": {},
   "source": [
    "As we can see, both have very close results.<br>\n",
    "The implicit mapping can be in general faster than the explicit, because the explicit mapping creates a much larger feature space, requiring more time and space complexity. <br>\n",
    "Using the polynomial kernel, the implicit avoids this issue by computing the dot product between feature vectors, without explicity computing the feature vectors themselves."
   ]
  },
  {
   "cell_type": "markdown",
   "metadata": {},
   "source": []
  }
 ],
 "metadata": {
  "kernelspec": {
   "display_name": "Python 3",
   "language": "python",
   "name": "python3"
  },
  "language_info": {
   "codemirror_mode": {
    "name": "ipython",
    "version": 3
   },
   "file_extension": ".py",
   "mimetype": "text/x-python",
   "name": "python",
   "nbconvert_exporter": "python",
   "pygments_lexer": "ipython3",
   "version": "3.10.7"
  },
  "orig_nbformat": 4
 },
 "nbformat": 4,
 "nbformat_minor": 2
}
