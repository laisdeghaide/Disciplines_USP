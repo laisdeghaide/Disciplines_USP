{
 "cells": [
  {
   "cell_type": "code",
   "execution_count": 1,
   "metadata": {},
   "outputs": [],
   "source": [
    "import numpy as np\n",
    "import pandas as pd\n",
    "import matplotlib.pyplot as plt\n",
    "from sklearn.linear_model import LinearRegression\n",
    "from sklearn.metrics import mean_squared_error\n",
    "from Calculus import Calculus\n",
    "from Utils import data_split"
   ]
  },
  {
   "cell_type": "code",
   "execution_count": 2,
   "metadata": {},
   "outputs": [],
   "source": [
    "data = pd.read_csv('../A2_datasets/cars-mpg.csv').to_numpy()\n",
    "X, y = data[:, :-1], data[:, -1]"
   ]
  },
  {
   "attachments": {},
   "cell_type": "markdown",
   "metadata": {},
   "source": [
    "1. Start by splitting the data 4 : 1 as training and validation randomly (for grading purposes, please use np.random.seed(1))"
   ]
  },
  {
   "cell_type": "code",
   "execution_count": 3,
   "metadata": {},
   "outputs": [],
   "source": [
    "X_train, y_train, X_test, y_test = data_split(data, test_size=0.2, random_state=1)"
   ]
  },
  {
   "cell_type": "code",
   "execution_count": 4,
   "metadata": {},
   "outputs": [],
   "source": [
    "def forward_selection(X_train, y_train):\n",
    "    n, p = X_train.shape\n",
    "    selected_features = []\n",
    "    best_models = []\n",
    "    best_model_mse = []\n",
    "\n",
    "    for k in range(p):\n",
    "        best_mse = np.inf\n",
    "        best_feature = None\n",
    "        best_model = None\n",
    "\n",
    "        for j in range(p):\n",
    "            if j in selected_features:\n",
    "                continue\n",
    "\n",
    "            candidate_features = selected_features + [j]\n",
    "            new_X_train = X_train[:, candidate_features]\n",
    "            candidate_model = LinearRegression().fit(new_X_train, y_train)\n",
    "            pred = candidate_model.predict(new_X_train)\n",
    "            candidate_mse = mean_squared_error(y_train, pred)\n",
    "\n",
    "            if candidate_mse < best_mse:\n",
    "                best_mse = candidate_mse\n",
    "                best_feature = j\n",
    "                best_model = candidate_model\n",
    "\n",
    "        selected_features.append(best_feature)\n",
    "        best_models.append(best_model)\n",
    "        best_model_mse.append(best_mse)\n",
    "\n",
    "    return selected_features, best_models, best_model_mse"
   ]
  },
  {
   "cell_type": "code",
   "execution_count": 5,
   "metadata": {},
   "outputs": [],
   "source": [
    "selected_features, best_models, best_model_mse = forward_selection(X_train, y_train)"
   ]
  },
  {
   "cell_type": "code",
   "execution_count": 6,
   "metadata": {},
   "outputs": [
    {
     "name": "stdout",
     "output_type": "stream",
     "text": [
      "The best model is the one with 7 features, and has a validation MSE of 0.35\n",
      "The most important feature is 2\n"
     ]
    }
   ],
   "source": [
    "# Evaluate the best model on the validation set\n",
    "best_model_idx = np.argmin(best_model_mse)\n",
    "best_model = best_models[best_model_idx]\n",
    "selected_features = selected_features[:best_model_idx+1]\n",
    "X_test_selected = X_test[:, selected_features]\n",
    "y_test_pred = best_model.predict(X_test_selected)\n",
    "mse_test = mean_squared_error(y_test, y_test_pred)\n",
    "\n",
    "print('The best model is the one with {} features, and has a validation MSE of {:.2f}'.format(best_model_idx+1, mse_test))\n",
    "print('The most important feature is {}'.format(selected_features[0]))"
   ]
  },
  {
   "cell_type": "code",
   "execution_count": null,
   "metadata": {},
   "outputs": [],
   "source": []
  }
 ],
 "metadata": {
  "kernelspec": {
   "display_name": "Python 3",
   "language": "python",
   "name": "python3"
  },
  "language_info": {
   "codemirror_mode": {
    "name": "ipython",
    "version": 3
   },
   "file_extension": ".py",
   "mimetype": "text/x-python",
   "name": "python",
   "nbconvert_exporter": "python",
   "pygments_lexer": "ipython3",
   "version": "3.10.7"
  },
  "orig_nbformat": 4
 },
 "nbformat": 4,
 "nbformat_minor": 2
}
