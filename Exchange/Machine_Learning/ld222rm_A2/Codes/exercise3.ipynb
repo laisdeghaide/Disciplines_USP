{
 "cells": [
  {
   "cell_type": "code",
   "execution_count": 1,
   "metadata": {},
   "outputs": [],
   "source": [
    "import numpy as np\n",
    "import matplotlib.pyplot as plt\n",
    "from Utils import data_split\n",
    "from LinearLogisticRegression import LinearLogisticRegreesion"
   ]
  },
  {
   "attachments": {},
   "cell_type": "markdown",
   "metadata": {},
   "source": [
    "1. Read data"
   ]
  },
  {
   "cell_type": "code",
   "execution_count": 2,
   "metadata": {},
   "outputs": [],
   "source": [
    "data = np.genfromtxt('../A2_datasets/banknote_authentication.csv', delimiter=',')"
   ]
  },
  {
   "attachments": {},
   "cell_type": "markdown",
   "metadata": {},
   "source": [
    "2. Shuffle the rows in the raw data matrix, and divide the data into suitable sized train and test sets"
   ]
  },
  {
   "cell_type": "code",
   "execution_count": 3,
   "metadata": {},
   "outputs": [],
   "source": [
    "X_train, y_train, X_test, y_test = data_split(data, test_size=0.2, random_state=42)"
   ]
  },
  {
   "attachments": {},
   "cell_type": "markdown",
   "metadata": {},
   "source": [
    "3. Normalize the training data and train a linear logistic regression model using gradient descent. Print the hyperparameters alpha and N_iter and plot the cost function J as a function over iterations"
   ]
  },
  {
   "cell_type": "code",
   "execution_count": 4,
   "metadata": {},
   "outputs": [
    {
     "name": "stdout",
     "output_type": "stream",
     "text": [
      "Hiperparameters alpha: 0.1, N_inter: 4000\n"
     ]
    },
    {
     "data": {
      "image/png": "[encoded data removed]",
      "text/plain": [
       "<Figure size 640x480 with 1 Axes>"
      ]
     },
     "metadata": {},
     "output_type": "display_data"
    }
   ],
   "source": [
    "alpha = 0.1\n",
    "Niter = 4000\n",
    "\n",
    "LLRegression = LinearLogisticRegreesion()\n",
    "\n",
    "cost_history = LLRegression.fit(X_train, y_train, alpha=alpha, num_iterations=Niter)\n",
    "\n",
    "print('Hiperparameters alpha: {}, N_inter: {}'.format(alpha, Niter))\n",
    "\n",
    "plt.plot(range(Niter), cost_history)\n",
    "plt.xlabel('Iteration')\n",
    "plt.ylabel('Cost')\n",
    "plt.title('Cost function over iterations')\n",
    "plt.show()"
   ]
  },
  {
   "attachments": {},
   "cell_type": "markdown",
   "metadata": {},
   "source": [
    "4. What is the training error (number of non-correct classifications in the training data) and the training accuracy (percentage of correct classifications) for your model?"
   ]
  },
  {
   "cell_type": "code",
   "execution_count": 5,
   "metadata": {},
   "outputs": [
    {
     "name": "stdout",
     "output_type": "stream",
     "text": [
      "Training error: 370, training accuracy: 66.30%\n"
     ]
    }
   ],
   "source": [
    "y_train_pred = LLRegression.predict(X_train)\n",
    "\n",
    "train_error = np.sum(y_train != y_train_pred)\n",
    "train_accuracy = (1 - train_error / len(y_train)) * 100\n",
    "\n",
    "print('Training error: {}, training accuracy: {:.2f}%'.format(train_error, train_accuracy))"
   ]
  },
  {
   "attachments": {},
   "cell_type": "markdown",
   "metadata": {},
   "source": [
    "5. What is the number of test error and the test accuracy for your model?"
   ]
  },
  {
   "cell_type": "code",
   "execution_count": 6,
   "metadata": {},
   "outputs": [
    {
     "name": "stdout",
     "output_type": "stream",
     "text": [
      "Test error: 89, test accuracy: 67.52%\n"
     ]
    }
   ],
   "source": [
    "y_test_pred = LLRegression.predict(X_test)\n",
    "\n",
    "test_error = np.sum(y_test != y_test_pred)\n",
    "test_accuracy = (1 - test_error / len(y_test)) * 100\n",
    "\n",
    "print('Test error: {}, test accuracy: {:.2f}%'.format(test_error, test_accuracy))"
   ]
  },
  {
   "attachments": {},
   "cell_type": "markdown",
   "metadata": {},
   "source": [
    "6. Repeated runs will (due to the shuffling) give different results. Are they qualitatively the same? Do they depend on how many observations you put aside for testing? Is the difference between training and testing expected?<br>\n",
    "\n",
    "        The results may vary slightly with each run due to shuffling, but they are qualitatively similar. The number of observations put aside for testing can affect the results, as the model has fewer data to generalize from. The difference between training and testing accuracy is expected, as the model may overfit the training data and not generalize well to new data."
   ]
  },
  {
   "cell_type": "markdown",
   "metadata": {},
   "source": []
  }
 ],
 "metadata": {
  "kernelspec": {
   "display_name": "Python 3",
   "language": "python",
   "name": "python3"
  },
  "language_info": {
   "codemirror_mode": {
    "name": "ipython",
    "version": 3
   },
   "file_extension": ".py",
   "mimetype": "text/x-python",
   "name": "python",
   "nbconvert_exporter": "python",
   "pygments_lexer": "ipython3",
   "version": "3.10.7"
  },
  "orig_nbformat": 4
 },
 "nbformat": 4,
 "nbformat_minor": 2
}
